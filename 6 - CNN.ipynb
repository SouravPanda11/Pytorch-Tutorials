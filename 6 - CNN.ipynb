{
 "cells": [
  {
   "cell_type": "markdown",
   "metadata": {},
   "source": [
    "Imports"
   ]
  },
  {
   "cell_type": "code",
   "execution_count": 8,
   "metadata": {},
   "outputs": [],
   "source": [
    "import torch\n",
    "import torch.nn as nn\n",
    "import torch.nn.functional as F\n",
    "import torchvision\n",
    "import torchvision.transforms as transforms\n",
    "import matplotlib.pyplot as plt\n",
    "import numpy as np"
   ]
  },
  {
   "cell_type": "markdown",
   "metadata": {},
   "source": [
    "Device Configuration"
   ]
  },
  {
   "cell_type": "code",
   "execution_count": 9,
   "metadata": {},
   "outputs": [
    {
     "name": "stdout",
     "output_type": "stream",
     "text": [
      "Using device: cuda\n"
     ]
    }
   ],
   "source": [
    "device = torch.device('cuda' if torch.cuda.is_available() else 'cpu')\n",
    "print('Using device:', device)"
   ]
  },
  {
   "cell_type": "markdown",
   "metadata": {},
   "source": [
    "Hyper-prarameters"
   ]
  },
  {
   "cell_type": "code",
   "execution_count": 10,
   "metadata": {},
   "outputs": [],
   "source": [
    "num_epochs = 10\n",
    "batch_size = 4\n",
    "learning_rate = 0.001"
   ]
  },
  {
   "cell_type": "markdown",
   "metadata": {},
   "source": [
    "Data Prep"
   ]
  },
  {
   "cell_type": "code",
   "execution_count": 11,
   "metadata": {},
   "outputs": [
    {
     "name": "stdout",
     "output_type": "stream",
     "text": [
      "Files already downloaded and verified\n"
     ]
    },
    {
     "data": {
      "image/png": "[encoded data removed]",
      "text/plain": [
       "<Figure size 640x480 with 1 Axes>"
      ]
     },
     "metadata": {},
     "output_type": "display_data"
    },
    {
     "name": "stdout",
     "output_type": "stream",
     "text": [
      " frog  ship  bird  frog\n"
     ]
    }
   ],
   "source": [
    "transform = transforms.Compose(\n",
    "    [transforms.ToTensor(),\n",
    "     transforms.Normalize((0.5, 0.5, 0.5), (0.5, 0.5, 0.5))])\n",
    "\n",
    "train_dataset = torchvision.datasets.CIFAR10(root='./data',\n",
    "                                             train=True,\n",
    "                                             transform=transform,\n",
    "                                             download=True)\n",
    "test_dataset = torchvision.datasets.CIFAR10(root='./data',\n",
    "                                            train=False,\n",
    "                                            transform=transform)\n",
    "\n",
    "train_loader = torch.utils.data.DataLoader(dataset=train_dataset,\n",
    "                                             batch_size=batch_size,\n",
    "                                             shuffle=True)\n",
    "test_loader = torch.utils.data.DataLoader(dataset=test_dataset,\n",
    "                                            batch_size=batch_size,\n",
    "                                            shuffle=False)\n",
    "\n",
    "classes = ('plane', 'car', 'bird', 'cat',\n",
    "              'deer', 'dog', 'frog', 'horse', 'ship', 'truck')\n",
    "\n",
    "def imshow(img):\n",
    "    img = img / 2 + 0.5\n",
    "    npimg = img.numpy()\n",
    "    plt.imshow(np.transpose(npimg, (1, 2, 0)))\n",
    "    plt.show()\n",
    "\n",
    "dataiter = iter(train_loader)\n",
    "images, labels = next(dataiter)\n",
    "\n",
    "imshow(torchvision.utils.make_grid(images))\n",
    "print(' '.join('%5s' % classes[labels[j]] for j in range(batch_size)))"
   ]
  },
  {
   "cell_type": "markdown",
   "metadata": {},
   "source": [
    "CNN Model"
   ]
  },
  {
   "cell_type": "code",
   "execution_count": 12,
   "metadata": {},
   "outputs": [],
   "source": [
    "class ConvNet(nn.Module):\n",
    "    def __init__(self):\n",
    "        super(ConvNet, self).__init__()\n",
    "        self.conv1 = nn.Conv2d(3, 6, 5)\n",
    "        self.pool = nn.MaxPool2d(2, 2)\n",
    "        self.conv2 = nn.Conv2d(6, 16, 5)\n",
    "        self.fc1 = nn.Linear(16 * 5 * 5, 120)\n",
    "        self.fc2 = nn.Linear(120, 84)\n",
    "        self.fc3 = nn.Linear(84, 10)\n",
    "\n",
    "    def forward(self, x):\n",
    "        x = self.pool(F.relu(self.conv1(x)))\n",
    "        x = self.pool(F.relu(self.conv2(x)))\n",
    "        x = x.view(-1, 16 * 5 * 5)\n",
    "        x = F.relu(self.fc1(x))\n",
    "        x = F.relu(self.fc2(x))\n",
    "        x = self.fc3(x)\n",
    "        return x\n",
    "\n",
    "model = ConvNet().to(device)"
   ]
  },
  {
   "cell_type": "markdown",
   "metadata": {},
   "source": [
    "Loss and Optimizer"
   ]
  },
  {
   "cell_type": "code",
   "execution_count": 13,
   "metadata": {},
   "outputs": [],
   "source": [
    "criterion = nn.CrossEntropyLoss()\n",
    "optimizer = torch.optim.SGD(model.parameters(), lr=learning_rate)"
   ]
  },
  {
   "cell_type": "markdown",
   "metadata": {},
   "source": [
    "Training Loop"
   ]
  },
  {
   "cell_type": "code",
   "execution_count": 14,
   "metadata": {},
   "outputs": [
    {
     "name": "stdout",
     "output_type": "stream",
     "text": [
      "Epoch [1/10], Step [2000/12500], Loss: 2.2929728031158447\n",
      "Epoch [1/10], Step [4000/12500], Loss: 2.284817695617676\n",
      "Epoch [1/10], Step [6000/12500], Loss: 2.1980862617492676\n",
      "Epoch [1/10], Step [8000/12500], Loss: 2.3448586463928223\n",
      "Epoch [1/10], Step [10000/12500], Loss: 2.0207347869873047\n",
      "Epoch [1/10], Step [12000/12500], Loss: 1.6886794567108154\n",
      "Epoch [2/10], Step [2000/12500], Loss: 2.076357126235962\n",
      "Epoch [2/10], Step [4000/12500], Loss: 2.877676010131836\n",
      "Epoch [2/10], Step [6000/12500], Loss: 1.5200541019439697\n",
      "Epoch [2/10], Step [8000/12500], Loss: 2.0678720474243164\n",
      "Epoch [2/10], Step [10000/12500], Loss: 1.3518579006195068\n",
      "Epoch [2/10], Step [12000/12500], Loss: 1.752353310585022\n",
      "Epoch [3/10], Step [2000/12500], Loss: 1.5887013673782349\n",
      "Epoch [3/10], Step [4000/12500], Loss: 2.2204461097717285\n",
      "Epoch [3/10], Step [6000/12500], Loss: 1.199295997619629\n",
      "Epoch [3/10], Step [8000/12500], Loss: 1.9315413236618042\n",
      "Epoch [3/10], Step [10000/12500], Loss: 1.2690117359161377\n",
      "Epoch [3/10], Step [12000/12500], Loss: 1.470863938331604\n",
      "Epoch [4/10], Step [2000/12500], Loss: 1.7337638139724731\n",
      "Epoch [4/10], Step [4000/12500], Loss: 1.5691391229629517\n",
      "Epoch [4/10], Step [6000/12500], Loss: 1.6926906108856201\n",
      "Epoch [4/10], Step [8000/12500], Loss: 1.2794865369796753\n",
      "Epoch [4/10], Step [10000/12500], Loss: 1.7771530151367188\n",
      "Epoch [4/10], Step [12000/12500], Loss: 1.5659382343292236\n",
      "Epoch [5/10], Step [2000/12500], Loss: 0.6082723140716553\n",
      "Epoch [5/10], Step [4000/12500], Loss: 1.668560266494751\n",
      "Epoch [5/10], Step [6000/12500], Loss: 1.8992462158203125\n",
      "Epoch [5/10], Step [8000/12500], Loss: 2.119345188140869\n",
      "Epoch [5/10], Step [10000/12500], Loss: 1.7086007595062256\n",
      "Epoch [5/10], Step [12000/12500], Loss: 1.2029588222503662\n",
      "Epoch [6/10], Step [2000/12500], Loss: 1.2990100383758545\n",
      "Epoch [6/10], Step [4000/12500], Loss: 1.0435899496078491\n",
      "Epoch [6/10], Step [6000/12500], Loss: 1.3422585725784302\n",
      "Epoch [6/10], Step [8000/12500], Loss: 1.133979082107544\n",
      "Epoch [6/10], Step [10000/12500], Loss: 1.7250820398330688\n",
      "Epoch [6/10], Step [12000/12500], Loss: 1.47018301486969\n",
      "Epoch [7/10], Step [2000/12500], Loss: 1.745283842086792\n",
      "Epoch [7/10], Step [4000/12500], Loss: 1.6105189323425293\n",
      "Epoch [7/10], Step [6000/12500], Loss: 1.7301545143127441\n",
      "Epoch [7/10], Step [8000/12500], Loss: 1.7691025733947754\n",
      "Epoch [7/10], Step [10000/12500], Loss: 1.4792929887771606\n",
      "Epoch [7/10], Step [12000/12500], Loss: 1.7642379999160767\n",
      "Epoch [8/10], Step [2000/12500], Loss: 1.8453528881072998\n",
      "Epoch [8/10], Step [4000/12500], Loss: 1.5781941413879395\n",
      "Epoch [8/10], Step [6000/12500], Loss: 1.7514021396636963\n",
      "Epoch [8/10], Step [8000/12500], Loss: 1.5082807540893555\n",
      "Epoch [8/10], Step [10000/12500], Loss: 1.5186691284179688\n",
      "Epoch [8/10], Step [12000/12500], Loss: 0.7545897960662842\n",
      "Epoch [9/10], Step [2000/12500], Loss: 2.2633869647979736\n",
      "Epoch [9/10], Step [4000/12500], Loss: 1.4405649900436401\n",
      "Epoch [9/10], Step [6000/12500], Loss: 1.3439571857452393\n",
      "Epoch [9/10], Step [8000/12500], Loss: 0.7420855760574341\n",
      "Epoch [9/10], Step [10000/12500], Loss: 1.1725600957870483\n",
      "Epoch [9/10], Step [12000/12500], Loss: 0.7802489399909973\n",
      "Epoch [10/10], Step [2000/12500], Loss: 0.42447367310523987\n",
      "Epoch [10/10], Step [4000/12500], Loss: 1.175233244895935\n",
      "Epoch [10/10], Step [6000/12500], Loss: 0.4805167317390442\n",
      "Epoch [10/10], Step [8000/12500], Loss: 0.73507159948349\n",
      "Epoch [10/10], Step [10000/12500], Loss: 1.631851077079773\n",
      "Epoch [10/10], Step [12000/12500], Loss: 1.7389787435531616\n",
      "Finished Training\n"
     ]
    }
   ],
   "source": [
    "n_total_steps = len(train_loader)\n",
    "for epoch in range(num_epochs):\n",
    "    for i, (images, labels) in enumerate(train_loader):\n",
    "        images = images.to(device)\n",
    "        labels = labels.to(device)\n",
    "\n",
    "        outputs = model(images)\n",
    "        loss = criterion(outputs, labels)\n",
    "\n",
    "        optimizer.zero_grad()\n",
    "        loss.backward()\n",
    "        optimizer.step()\n",
    "\n",
    "        if (i+1) % 2000 == 0:\n",
    "            print(f'Epoch [{epoch+1}/{num_epochs}], Step [{i+1}/{n_total_steps}], Loss: {loss.item()}')\n",
    "    \n",
    "print('Finished Training')"
   ]
  },
  {
   "cell_type": "markdown",
   "metadata": {},
   "source": [
    "Evaluate"
   ]
  },
  {
   "cell_type": "code",
   "execution_count": 15,
   "metadata": {},
   "outputs": [
    {
     "name": "stdout",
     "output_type": "stream",
     "text": [
      "Accuracy of the network on the 10000 test images: 55.15 %\n",
      "Accuracy of plane: 57.4 %\n",
      "Accuracy of car: 74.4 %\n",
      "Accuracy of bird: 45.0 %\n",
      "Accuracy of cat: 24.1 %\n",
      "Accuracy of deer: 40.2 %\n",
      "Accuracy of dog: 45.0 %\n",
      "Accuracy of frog: 63.0 %\n",
      "Accuracy of horse: 71.2 %\n",
      "Accuracy of ship: 71.6 %\n",
      "Accuracy of truck: 59.6 %\n"
     ]
    }
   ],
   "source": [
    "with torch.no_grad():\n",
    "    n_correct = 0\n",
    "    n_samples = 0\n",
    "    n_class_correct = [0 for i in range(10)]\n",
    "    n_class_samples = [0 for i in range(10)]\n",
    "    for images, labels in test_loader:\n",
    "        images = images.to(device)\n",
    "        labels = labels.to(device)\n",
    "        outputs = model(images)\n",
    "        _, predicted = torch.max(outputs, 1)\n",
    "        n_samples += labels.size(0)\n",
    "        n_correct += (predicted == labels).sum().item()\n",
    "        for i in range(batch_size):\n",
    "            label = labels[i]\n",
    "            pred = predicted[i]\n",
    "            if (label == pred):\n",
    "                n_class_correct[label] += 1\n",
    "            n_class_samples[label] += 1\n",
    "    \n",
    "    acc = 100.0 * n_correct / n_samples\n",
    "    print(f'Accuracy of the network on the 10000 test images: {acc} %')\n",
    "    \n",
    "    for i in range(10):\n",
    "        acc = 100.0 * n_class_correct[i] / n_class_samples[i]\n",
    "        print(f'Accuracy of {classes[i]}: {acc} %')"
   ]
  }
 ],
 "metadata": {
  "kernelspec": {
   "display_name": "Python 3",
   "language": "python",
   "name": "python3"
  },
  "language_info": {
   "codemirror_mode": {
    "name": "ipython",
    "version": 3
   },
   "file_extension": ".py",
   "mimetype": "text/x-python",
   "name": "python",
   "nbconvert_exporter": "python",
   "pygments_lexer": "ipython3",
   "version": "3.11.5"
  }
 },
 "nbformat": 4,
 "nbformat_minor": 2
}
